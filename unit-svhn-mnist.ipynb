{
 "cells": [
  {
   "cell_type": "markdown",
   "metadata": {},
   "source": [
    "# CycleGAN for SVHN --> MNIST transfer\n",
    "Adaptation of this [paper](https://arxiv.org/pdf/1703.10593.pdf) for transforming the SVHN domain to the MNIST one\n",
    "Other papers used:\n",
    "\n",
    "[1] **Instance Noise** : https://arxiv.org/pdf/1610.04490.pdf\n",
    "\n",
    "[2] **Discriminator Regularizer** : https://arxiv.org/pdf/1705.09367.pdf\n",
    "\n",
    "[3] **Gradient penalty** (DRAGAN) : https://arxiv.org/pdf/1705.07215.pdf\n",
    "\n",
    "[4] **Instance normalization** : https://arxiv.org/abs/1607.08022"
   ]
  },
  {
   "cell_type": "code",
   "execution_count": 1,
   "metadata": {},
   "outputs": [
    {
     "name": "stderr",
     "output_type": "stream",
     "text": [
      "/home/arthur/miniconda3/envs/tl-gpu/lib/python3.5/site-packages/h5py/__init__.py:34: FutureWarning: Conversion of the second argument of issubdtype from `float` to `np.floating` is deprecated. In future, it will be treated as `np.float64 == np.dtype(float).type`.\n",
      "  from ._conv import register_converters as _register_converters\n"
     ]
    }
   ],
   "source": [
    "import numpy as np\n",
    "import scipy\n",
    "import matplotlib.pyplot as plt\n",
    "%matplotlib inline\n",
    "from skimage import color, transform\n",
    "from sklearn.preprocessing import LabelBinarizer\n",
    "\n",
    "import tensorflow as tf\n",
    "from tensorflow.examples.tutorials.mnist import input_data\n",
    "from tensorflow.contrib.gan.python.losses.python import losses_impl\n",
    "\n",
    "from torchvision import datasets\n",
    "from torchvision import transforms\n",
    "\n",
    "from IPython.display import clear_output"
   ]
  },
  {
   "cell_type": "code",
   "execution_count": 2,
   "metadata": {
    "collapsed": true
   },
   "outputs": [],
   "source": [
    "colormap = np.array(plt.rcParams['axes.prop_cycle'].by_key()['color'])"
   ]
  },
  {
   "cell_type": "markdown",
   "metadata": {},
   "source": [
    "## Create the datasets"
   ]
  },
  {
   "cell_type": "code",
   "execution_count": 3,
   "metadata": {
    "collapsed": true
   },
   "outputs": [],
   "source": [
    "def normalize(x, max_value):\n",
    "    \"\"\" Normalize the input between -1 and 1 \"\"\"\n",
    "    return (x / float(max_value)) * 2 - 1"
   ]
  },
  {
   "cell_type": "markdown",
   "metadata": {},
   "source": [
    "### SVHN"
   ]
  },
  {
   "cell_type": "code",
   "execution_count": 4,
   "metadata": {
    "collapsed": true
   },
   "outputs": [],
   "source": [
    "svhn = datasets.SVHN(root=\"/home/arthur/datasets/svhn\", download=False)"
   ]
  },
  {
   "cell_type": "code",
   "execution_count": 5,
   "metadata": {},
   "outputs": [
    {
     "data": {
      "text/plain": [
       "(73257, 32, 32, 1)"
      ]
     },
     "execution_count": 5,
     "metadata": {},
     "output_type": "execute_result"
    }
   ],
   "source": [
    "X_svhn = svhn.data\n",
    "X_svhn = np.transpose(X_svhn, (0,2,3,1))\n",
    "X_svhn = np.array([color.rgb2gray(im) for im in X_svhn])\n",
    "X_svhn = normalize(X_svhn, 1)\n",
    "X_svhn = X_svhn.reshape(len(X_svhn), 32, 32, 1)\n",
    "Y_svhn = svhn.labels.flatten()%10\n",
    "X_svhn.shape"
   ]
  },
  {
   "cell_type": "markdown",
   "metadata": {},
   "source": [
    "### MNIST"
   ]
  },
  {
   "cell_type": "code",
   "execution_count": 6,
   "metadata": {},
   "outputs": [
    {
     "name": "stdout",
     "output_type": "stream",
     "text": [
      "Extracting /home/arthur/datasets/mnist/train-images-idx3-ubyte.gz\n",
      "Extracting /home/arthur/datasets/mnist/train-labels-idx1-ubyte.gz\n",
      "Extracting /home/arthur/datasets/mnist/t10k-images-idx3-ubyte.gz\n",
      "Extracting /home/arthur/datasets/mnist/t10k-labels-idx1-ubyte.gz\n"
     ]
    }
   ],
   "source": [
    "mnist = input_data.read_data_sets('/home/arthur/datasets/mnist', one_hot=False)"
   ]
  },
  {
   "cell_type": "code",
   "execution_count": 7,
   "metadata": {},
   "outputs": [
    {
     "name": "stderr",
     "output_type": "stream",
     "text": [
      "/home/arthur/miniconda3/envs/tl-gpu/lib/python3.5/site-packages/skimage/transform/_warps.py:84: UserWarning: The default mode, 'constant', will be changed to 'reflect' in skimage 0.15.\n",
      "  warn(\"The default mode, 'constant', will be changed to 'reflect' in \"\n"
     ]
    }
   ],
   "source": [
    "X_mnist = mnist.train.images\n",
    "X_mnist = X_mnist.reshape(len(X_mnist), 28, 28)\n",
    "X_mnist = np.array([transform.resize(im, [32,32]) for im in X_mnist])\n",
    "X_mnist = normalize(X_mnist, 1)\n",
    "X_mnist = X_mnist.reshape(len(X_mnist), 32, 32, 1)"
   ]
  },
  {
   "cell_type": "code",
   "execution_count": 8,
   "metadata": {
    "collapsed": true
   },
   "outputs": [],
   "source": [
    "Y_mnist = mnist.train.labels\n",
    "mlb = LabelBinarizer()\n",
    "Y_mnist = mlb.fit_transform(Y_mnist)"
   ]
  },
  {
   "cell_type": "code",
   "execution_count": 9,
   "metadata": {
    "collapsed": true
   },
   "outputs": [],
   "source": [
    "X_source = X_mnist\n",
    "Y_source = Y_mnist\n",
    "\n",
    "X_target = X_svhn"
   ]
  },
  {
   "cell_type": "markdown",
   "metadata": {},
   "source": [
    "## Create the model"
   ]
  },
  {
   "cell_type": "code",
   "execution_count": 10,
   "metadata": {
    "collapsed": true
   },
   "outputs": [],
   "source": [
    "batch_size = 64"
   ]
  },
  {
   "cell_type": "markdown",
   "metadata": {},
   "source": [
    "### Useful functions"
   ]
  },
  {
   "cell_type": "code",
   "execution_count": 11,
   "metadata": {
    "collapsed": true
   },
   "outputs": [],
   "source": [
    "def leaky_relu(x):\n",
    "    alpha = 0.05\n",
    "    return tf.maximum(x, alpha * x)"
   ]
  },
  {
   "cell_type": "code",
   "execution_count": 12,
   "metadata": {
    "collapsed": true
   },
   "outputs": [],
   "source": [
    "def instance_normalization(x, name):\n",
    "    with tf.variable_scope(\"instance_norm\"):\n",
    "        with tf.variable_scope(name):\n",
    "            epsilon = 1e-5\n",
    "            mean, var = tf.nn.moments(x, [1, 2], keep_dims=True)\n",
    "            scale = tf.get_variable('scale',[x.get_shape()[-1]], \n",
    "                initializer=tf.truncated_normal_initializer(mean=1.0, stddev=0.02))\n",
    "            offset = tf.get_variable('offset',[x.get_shape()[-1]],initializer=tf.constant_initializer(0.0))\n",
    "            out = scale*tf.div(x-mean, tf.sqrt(var+epsilon)) + offset\n",
    "\n",
    "            return out"
   ]
  },
  {
   "cell_type": "code",
   "execution_count": 13,
   "metadata": {
    "collapsed": true
   },
   "outputs": [],
   "source": [
    "def gaussian_noise_layer(input_layer, std):\n",
    "    noise = tf.random_normal(shape=tf.shape(input_layer), mean=0.0, stddev=std, dtype=tf.float32) \n",
    "    return input_layer + noise"
   ]
  },
  {
   "cell_type": "markdown",
   "metadata": {},
   "source": [
    "### Placeholders"
   ]
  },
  {
   "cell_type": "code",
   "execution_count": 14,
   "metadata": {
    "collapsed": true
   },
   "outputs": [],
   "source": [
    "ipt_source = tf.placeholder(tf.float32, shape=[None, 32, 32, 1], name='ipt_source')\n",
    "ipt_target = tf.placeholder(tf.float32, shape=[None, 32, 32, 1], name='ipt_target')\n",
    "labels_source = tf.placeholder(tf.int32, shape=[None, 10], name=\"labels_source\")"
   ]
  },
  {
   "cell_type": "markdown",
   "metadata": {},
   "source": [
    "### Discriminator Network"
   ]
  },
  {
   "cell_type": "code",
   "execution_count": 15,
   "metadata": {
    "collapsed": true
   },
   "outputs": [],
   "source": [
    "def discriminator(x, scope): \n",
    "    initializer = tf.contrib.layers.xavier_initializer()\n",
    "\n",
    "    with tf.variable_scope(scope + \"/discriminator\", reuse=tf.AUTO_REUSE):\n",
    "        # Layer 1: 32x32x1 --> 16x16x64 (n=1 or 3)\n",
    "        conv1 = tf.layers.conv2d(x, 64, [5,5], strides=2, padding='SAME', kernel_initializer=initializer, activation=leaky_relu)\n",
    "        conv1 = instance_normalization(conv1, \"conv1\")\n",
    "        \n",
    "    with tf.variable_scope(\"discriminator\", reuse=tf.AUTO_REUSE):\n",
    "        # Layer 2: 16x16x64 --> 8x8x128        \n",
    "        conv2 = tf.layers.conv2d(conv1, 128, [5,5], strides=2, padding='SAME', kernel_initializer=initializer, activation=leaky_relu)\n",
    "        conv2 = instance_normalization(conv2, \"conv2\")\n",
    "        \n",
    "        # Layer 3: 8x8x128 --> 4x4x256    \n",
    "        conv3 = tf.layers.conv2d(conv2, 256, [5,5], strides=2, padding='SAME', kernel_initializer=initializer, activation=leaky_relu)\n",
    "        conv3 = instance_normalization(conv3, \"conv3\")\n",
    "        \n",
    "        # Layer 4: 4x4x256 --> 2x2x512    \n",
    "        conv4 = tf.layers.conv2d(conv3, 512, [5,5], strides=2, padding='SAME', kernel_initializer=initializer, activation=leaky_relu)\n",
    "        conv4 = instance_normalization(conv4, \"conv4\")\n",
    "\n",
    "        # Layer 3: 2x2x512 --> 1\n",
    "        fc1 = tf.contrib.layers.flatten(conv4)\n",
    "        fc1_logits = tf.layers.dense(inputs=fc1, units=1, activation=None, kernel_initializer=initializer)\n",
    "        fc1_sigmoid = tf.sigmoid(fc1_logits)\n",
    "        fc1_classif = tf.layers.dense(inputs=fc1, units=10, activation=None, kernel_initializer=initializer)\n",
    "        \n",
    "    return fc1_sigmoid, fc1_logits, fc1_classif"
   ]
  },
  {
   "cell_type": "markdown",
   "metadata": {},
   "source": [
    "### Encoder Network"
   ]
  },
  {
   "cell_type": "code",
   "execution_count": 16,
   "metadata": {
    "collapsed": true
   },
   "outputs": [],
   "source": [
    "def encoder(x, scope):\n",
    "    initializer = tf.contrib.layers.xavier_initializer()\n",
    "    \n",
    "    with tf.variable_scope(scope + \"/encoder\", reuse=tf.AUTO_REUSE): # not shared\n",
    "        # Layer 1: 32x32x1 --> 16x16x64\n",
    "        conv1 = tf.layers.conv2d(x, 64, [5, 5], strides=2, padding='SAME', \n",
    "                                 kernel_initializer=initializer, activation=leaky_relu)\n",
    "        conv1 = instance_normalization(conv1, \"conv1\")\n",
    "    \n",
    "    with tf.variable_scope(\"encoder\", reuse=tf.AUTO_REUSE): # shared weights\n",
    "        # Layer 2: 16x16x64 --> 8x8x128\n",
    "        conv2 = tf.layers.conv2d(conv1, 128, [5, 5], strides=2, padding='SAME', \n",
    "                                 kernel_initializer=initializer, activation=leaky_relu)\n",
    "        conv2 = instance_normalization(conv2, \"conv2\")\n",
    "        \n",
    "        # Layer 3: 8x8x128 --> 8x8x256\n",
    "        conv3 = tf.layers.conv2d(conv2, 256, [8, 8], strides=1, padding='SAME', \n",
    "                                 kernel_initializer=initializer, activation=leaky_relu)\n",
    "        conv3 = instance_normalization(conv3, \"conv3\")\n",
    "        \n",
    "        # Layer 4: 8x8x256 --> 8x8x512\n",
    "        conv4 = tf.layers.conv2d(conv3, 512, [1, 1], strides=1, padding='SAME', \n",
    "                                 kernel_initializer=initializer, activation=leaky_relu)\n",
    "        conv4 = instance_normalization(conv4, \"conv4\")\n",
    "\n",
    "        # Layer 5 : 8x8x512 --> 8x8x1024\n",
    "        mu = tf.layers.conv2d(conv4, 1024, [1, 1], strides=1, padding='SAME', \n",
    "                              kernel_initializer=initializer, activation=None)\n",
    "        log_sigma_sq = tf.layers.conv2d(conv4, 1024, [1, 1], strides=1, padding='SAME', \n",
    "                              kernel_initializer=initializer, activation=None)\n",
    "        \n",
    "        z = mu + tf.multiply(tf.exp(log_sigma_sq / 2), tf.random_normal([batch_size,8,8,1024],0,1,dtype=tf.float32)) # latent space\n",
    "        \n",
    "    return mu, log_sigma_sq, z"
   ]
  },
  {
   "cell_type": "markdown",
   "metadata": {},
   "source": [
    "### Generator Network"
   ]
  },
  {
   "cell_type": "code",
   "execution_count": 17,
   "metadata": {
    "collapsed": true
   },
   "outputs": [],
   "source": [
    "def generator(z, scope):\n",
    "    initializer = tf.contrib.layers.xavier_initializer()\n",
    "    \n",
    "    with tf.variable_scope(\"generator\", reuse=tf.AUTO_REUSE): # shared weights\n",
    "        # Layer 1: 8x8x1024 --> 8x8x512\n",
    "        deconv1 = tf.layers.conv2d_transpose(z, 512, [4, 4], strides=2, padding='SAME', kernel_initializer=initializer, activation=leaky_relu)\n",
    "        deconv1 = instance_normalization(deconv1, \"deconv1\")\n",
    "        \n",
    "        # Layer 2: 8x8x512 --> 16x16x256\n",
    "        deconv2 = tf.layers.conv2d_transpose(deconv1, 256, [4, 4], strides=2, padding='SAME', kernel_initializer=initializer, activation=leaky_relu)\n",
    "        deconv2 = instance_normalization(deconv2, \"deconv2\")\n",
    "        \n",
    "        # Layer 3: 16x16x256 --> 32x32x512\n",
    "        deconv3 = tf.layers.conv2d_transpose(deconv2, 128, [4, 4], strides=1, padding='SAME', kernel_initializer=initializer, activation=leaky_relu)\n",
    "        deconv3 = instance_normalization(deconv3, \"deconv3\")\n",
    "        \n",
    "    with tf.variable_scope(scope + \"/generator\", reuse=tf.AUTO_REUSE):\n",
    "        # Layer 3: 16x16x256 --> 32x32x512\n",
    "        deconv4 = tf.layers.conv2d_transpose(deconv3, 64, [4, 4], strides=1, padding='SAME', kernel_initializer=initializer, activation=leaky_relu)\n",
    "        deconv4 = instance_normalization(deconv4, \"deconv4\")\n",
    "\n",
    "        # Layer 6: 16x16x64 --> 32x32x1\n",
    "        deconv5 = tf.layers.conv2d_transpose(deconv4, 1, [1, 1], strides=1, padding='SAME', kernel_initializer=initializer, activation=tf.nn.tanh)\n",
    "        \n",
    "    return deconv5"
   ]
  },
  {
   "cell_type": "markdown",
   "metadata": {},
   "source": [
    "### Define the graph"
   ]
  },
  {
   "cell_type": "code",
   "execution_count": 18,
   "metadata": {
    "collapsed": true
   },
   "outputs": [],
   "source": [
    "def log(tensor):\n",
    "    return tf.log(tensor + 1e-7)"
   ]
  },
  {
   "cell_type": "markdown",
   "metadata": {},
   "source": [
    "#### Encoders"
   ]
  },
  {
   "cell_type": "code",
   "execution_count": 19,
   "metadata": {
    "collapsed": true
   },
   "outputs": [],
   "source": [
    "E_mean_source, E_log_sigma_sq_source, E_source = encoder(ipt_source, \"source\")\n",
    "E_mean_target, E_log_sigma_sq_target, E_target = encoder(ipt_target, \"target\")"
   ]
  },
  {
   "cell_type": "markdown",
   "metadata": {},
   "source": [
    "#### Generators"
   ]
  },
  {
   "cell_type": "code",
   "execution_count": 20,
   "metadata": {
    "collapsed": true
   },
   "outputs": [],
   "source": [
    "# GAN\n",
    "G_t2s = generator(E_target, \"source\")\n",
    "G_s2t = generator(E_source, \"target\")\n",
    "\n",
    "# VAE\n",
    "G_t2t = generator(E_target, \"target\")\n",
    "G_s2s = generator(E_source, \"source\")"
   ]
  },
  {
   "cell_type": "markdown",
   "metadata": {},
   "source": [
    "#### Discriminators"
   ]
  },
  {
   "cell_type": "code",
   "execution_count": 21,
   "metadata": {
    "collapsed": true
   },
   "outputs": [],
   "source": [
    "D_target, D_target_logits, D_target_classif = discriminator(ipt_target, \"target\")\n",
    "D_source, D_source_logits, D_source_classif = discriminator(ipt_source, \"source\")\n",
    "\n",
    "DG_t2s, DG_t2s_logits, DG_t2s_classif = discriminator(G_t2s, \"source\")\n",
    "DG_s2t, DG_s2t_logits, DG_s2t_classif = discriminator(G_s2t, \"target\")\n",
    "# =====> TODO : DG_s2s, DG_t2t"
   ]
  },
  {
   "cell_type": "markdown",
   "metadata": {},
   "source": [
    "### Losses"
   ]
  },
  {
   "cell_type": "markdown",
   "metadata": {},
   "source": [
    "#### VAE losses"
   ]
  },
  {
   "cell_type": "markdown",
   "metadata": {},
   "source": [
    "Source : [Variational Autoencoder: Intuition and Implementation](https://wiseodd.github.io/techblog/2016/12/10/variational-autoencoder/)"
   ]
  },
  {
   "cell_type": "code",
   "execution_count": 22,
   "metadata": {
    "collapsed": true
   },
   "outputs": [],
   "source": [
    "lambda_rec = 1\n",
    "lambda_kl = 1"
   ]
  },
  {
   "cell_type": "code",
   "execution_count": 23,
   "metadata": {
    "collapsed": true
   },
   "outputs": [],
   "source": [
    "def normalize(x):\n",
    "    return (x + 1) / 2"
   ]
  },
  {
   "cell_type": "code",
   "execution_count": 24,
   "metadata": {
    "collapsed": true
   },
   "outputs": [],
   "source": [
    "def reconstruction_loss(x, x_rec):\n",
    "    x, x_rec = normalize(x), normalize(x_rec)\n",
    "    return - tf.reduce_mean(x * log(x_rec) + (1 - x) * log(1 - x_rec))"
   ]
  },
  {
   "cell_type": "code",
   "execution_count": 25,
   "metadata": {
    "collapsed": true
   },
   "outputs": [],
   "source": [
    "def latent_loss(mean, log_std_sq):\n",
    "    return 0.5 * tf.reduce_mean(tf.square(mean) + tf.exp(log_std_sq) - log_std_sq - 1.)"
   ]
  },
  {
   "cell_type": "code",
   "execution_count": 26,
   "metadata": {
    "collapsed": true
   },
   "outputs": [],
   "source": [
    "vae_s2s_loss = lambda_rec * reconstruction_loss(ipt_source, G_s2s) \\\n",
    "               + lambda_kl * latent_loss(E_mean_source, E_log_sigma_sq_source)\n",
    "vae_t2t_loss = lambda_rec * reconstruction_loss(ipt_target, G_t2t) \\\n",
    "               + lambda_kl * latent_loss(E_mean_target, E_log_sigma_sq_target)"
   ]
  },
  {
   "cell_type": "markdown",
   "metadata": {},
   "source": [
    "#### Classification loss"
   ]
  },
  {
   "cell_type": "code",
   "execution_count": 27,
   "metadata": {
    "collapsed": true
   },
   "outputs": [],
   "source": [
    "lambda_classif = 1"
   ]
  },
  {
   "cell_type": "code",
   "execution_count": 28,
   "metadata": {
    "collapsed": true
   },
   "outputs": [],
   "source": [
    "classif_source_loss = lambda_classif * tf.reduce_mean(tf.nn.softmax_cross_entropy_with_logits(labels=labels_source, \n",
    "                                                                                              logits=D_source_classif))"
   ]
  },
  {
   "cell_type": "markdown",
   "metadata": {},
   "source": [
    "#### GAN losses"
   ]
  },
  {
   "cell_type": "code",
   "execution_count": 29,
   "metadata": {
    "collapsed": true
   },
   "outputs": [],
   "source": [
    "def wasserstein_disc_loss(D_real, D_gen):\n",
    "    \"\"\" Warning : take logits as input\"\"\"\n",
    "    return tf.reduce_mean(D_gen) - tf.reduce_mean(D_real)\n",
    "\n",
    "def wasserstein_gen_loss(D_gen):\n",
    "    \"\"\" Warning : take logits as input\"\"\"\n",
    "    return -tf.reduce_mean(D_gen)"
   ]
  },
  {
   "cell_type": "code",
   "execution_count": 30,
   "metadata": {
    "collapsed": true
   },
   "outputs": [],
   "source": [
    "D_s2t_loss = wasserstein_disc_loss(D_target_logits, DG_s2t_logits)\n",
    "G_s2t_loss = wasserstein_gen_loss(DG_s2t_logits)"
   ]
  },
  {
   "cell_type": "code",
   "execution_count": 31,
   "metadata": {
    "collapsed": true
   },
   "outputs": [],
   "source": [
    "D_t2s_loss = wasserstein_disc_loss(D_source_logits, DG_t2s_logits)\n",
    "G_t2s_loss = wasserstein_gen_loss(DG_t2s_logits)"
   ]
  },
  {
   "cell_type": "markdown",
   "metadata": {},
   "source": [
    "### Solvers"
   ]
  },
  {
   "cell_type": "code",
   "execution_count": 33,
   "metadata": {},
   "outputs": [],
   "source": [
    "model_vars = tf.trainable_variables()\n",
    "\n",
    "D_s2t_vars = tf.get_collection(tf.GraphKeys.TRAINABLE_VARIABLES, scope='target/discriminator') \\\n",
    "             + tf.get_collection(tf.GraphKeys.TRAINABLE_VARIABLES, scope='discriminator')\n",
    "\n",
    "D_t2s_vars = tf.get_collection(tf.GraphKeys.TRAINABLE_VARIABLES, scope='source/discriminator') \\\n",
    "             + tf.get_collection(tf.GraphKeys.TRAINABLE_VARIABLES, scope='discriminator')\n",
    "\n",
    "G_s2t_vars = tf.get_collection(tf.GraphKeys.TRAINABLE_VARIABLES, scope='source/encoder') \\\n",
    "             + tf.get_collection(tf.GraphKeys.TRAINABLE_VARIABLES, scope='target/generator') \\\n",
    "             + tf.get_collection(tf.GraphKeys.TRAINABLE_VARIABLES, scope='generator') \\\n",
    "             + tf.get_collection(tf.GraphKeys.TRAINABLE_VARIABLES, scope='encoder')\n",
    "G_t2s_vars = tf.get_collection(tf.GraphKeys.TRAINABLE_VARIABLES, scope='target/encoder') \\\n",
    "             + tf.get_collection(tf.GraphKeys.TRAINABLE_VARIABLES, scope='source/generator') \\\n",
    "             + tf.get_collection(tf.GraphKeys.TRAINABLE_VARIABLES, scope='generator') \\\n",
    "             + tf.get_collection(tf.GraphKeys.TRAINABLE_VARIABLES, scope='encoder')\n",
    "            \n",
    "\n",
    "vae_s2s_vars = tf.get_collection(tf.GraphKeys.TRAINABLE_VARIABLES, scope='source/encoder') \\\n",
    "               + tf.get_collection(tf.GraphKeys.TRAINABLE_VARIABLES, scope='source/generator') \\\n",
    "               + tf.get_collection(tf.GraphKeys.TRAINABLE_VARIABLES, scope='generator') \\\n",
    "               + tf.get_collection(tf.GraphKeys.TRAINABLE_VARIABLES, scope='encoder')\n",
    "vae_t2t_vars = tf.get_collection(tf.GraphKeys.TRAINABLE_VARIABLES, scope='target/encoder') \\\n",
    "               + tf.get_collection(tf.GraphKeys.TRAINABLE_VARIABLES, scope='target/generator') \\\n",
    "               + tf.get_collection(tf.GraphKeys.TRAINABLE_VARIABLES, scope='generator') \\\n",
    "               + tf.get_collection(tf.GraphKeys.TRAINABLE_VARIABLES, scope='encoder')"
   ]
  },
  {
   "cell_type": "code",
   "execution_count": 34,
   "metadata": {
    "collapsed": true
   },
   "outputs": [],
   "source": [
    "with tf.variable_scope(\"optim\", reuse=tf.AUTO_REUSE):\n",
    "    D_s2t_solver = tf.train.RMSPropOptimizer(learning_rate=5e-5).minimize(D_s2t_loss, var_list=D_s2t_vars)\n",
    "    G_s2t_solver = tf.train.RMSPropOptimizer(learning_rate=5e-5).minimize(G_s2t_loss, var_list=G_s2t_vars)\n",
    "    D_t2s_solver = tf.train.RMSPropOptimizer(learning_rate=5e-5).minimize(D_t2s_loss, var_list=D_t2s_vars)\n",
    "    G_t2s_solver = tf.train.RMSPropOptimizer(learning_rate=5e-5).minimize(G_t2s_loss, var_list=G_t2s_vars)\n",
    "\n",
    "    classif_source_solver = tf.train.AdamOptimizer(learning_rate=1e-3).minimize(classif_source_loss, \n",
    "                                                                                var_list=D_t2s_vars)\n",
    "\n",
    "    vae_s2s_solver = tf.train.AdamOptimizer(learning_rate=1e-3).minimize(vae_s2s_loss, var_list=vae_s2s_vars)\n",
    "    vae_t2t_solver = tf.train.AdamOptimizer(learning_rate=1e-3).minimize(vae_t2t_loss, var_list=vae_t2t_vars)"
   ]
  },
  {
   "cell_type": "code",
   "execution_count": 35,
   "metadata": {
    "collapsed": true
   },
   "outputs": [],
   "source": [
    "clip_D_s2t = [p.assign(tf.clip_by_value(p, -0.1, 0.1)) for p in D_s2t_vars]\n",
    "clip_D_t2s = [p.assign(tf.clip_by_value(p, -0.1, 0.1)) for p in D_t2s_vars]"
   ]
  },
  {
   "cell_type": "markdown",
   "metadata": {},
   "source": [
    "## Run the model"
   ]
  },
  {
   "cell_type": "code",
   "execution_count": 36,
   "metadata": {
    "collapsed": true
   },
   "outputs": [],
   "source": [
    "sess = tf.InteractiveSession(config=tf.ConfigProto(log_device_placement=False))"
   ]
  },
  {
   "cell_type": "code",
   "execution_count": 37,
   "metadata": {
    "collapsed": true
   },
   "outputs": [],
   "source": [
    "sess.run(tf.global_variables_initializer())\n",
    "D_s2t_loss_list = []\n",
    "G_s2t_loss_list = []\n",
    "D_t2s_loss_list = []\n",
    "G_t2s_loss_list = []\n",
    "vae_s2s_loss_list = []\n",
    "vae_t2t_loss_list = []\n",
    "classif_t2s_loss_list = []\n",
    "iter_list = []\n",
    "i = 0"
   ]
  },
  {
   "cell_type": "code",
   "execution_count": 38,
   "metadata": {
    "collapsed": true
   },
   "outputs": [],
   "source": [
    "saver = tf.train.Saver()\n",
    "# saver.restore(sess, \"model/model.ckpt\")"
   ]
  },
  {
   "cell_type": "code",
   "execution_count": 39,
   "metadata": {
    "collapsed": true
   },
   "outputs": [],
   "source": [
    "# D_s2t_loss_list = list(np.loadtxt(\"D_s2t_loss_list.txt\"))\n",
    "# G_s2t_loss_list = list(np.loadtxt(\"G_s2t_loss_list.txt\"))\n",
    "# D_t2s_loss_list = list(np.loadtxt(\"D_t2s_loss_list.txt\"))\n",
    "# G_t2s_loss_list = list(np.loadtxt(\"G_t2s_loss_list.txt\"))\n",
    "# vae_s2s_loss_list = list(np.loadtxt(\"vae_s2s_loss_list.txt\"))\n",
    "# vae_t2t_loss_list = list(np.loadtxt(\"vae_t2t_loss_list.txt\"))\n",
    "# iter_list = list(np.loadtxt(\"iter_list.txt\"))\n",
    "# i = len(iter_list)"
   ]
  },
  {
   "cell_type": "code",
   "execution_count": 89,
   "metadata": {},
   "outputs": [
    {
     "name": "stdout",
     "output_type": "stream",
     "text": [
      "Iter: 1777 / 100969\n",
      "D loss s2t: -39.16\n",
      "D loss t2s: -28.37\n",
      "G loss s2t: 22.17\n",
      "G loss t2s: 19.36\n",
      "VAE loss s2s: 0.1081\n",
      "VAE loss t2t: 0.6635\n",
      "Classif loss : 0.2401\n",
      "\n"
     ]
    },
    {
     "ename": "KeyboardInterrupt",
     "evalue": "",
     "output_type": "error",
     "traceback": [
      "\u001b[0;31m---------------------------------------------------------------------------\u001b[0m",
      "\u001b[0;31mKeyboardInterrupt\u001b[0m                         Traceback (most recent call last)",
      "\u001b[0;32m<ipython-input-89-683bf326cf09>\u001b[0m in \u001b[0;36m<module>\u001b[0;34m()\u001b[0m\n\u001b[1;32m     20\u001b[0m \u001b[0;34m\u001b[0m\u001b[0m\n\u001b[1;32m     21\u001b[0m         \u001b[0;31m## Optimizing VAE s2s\u001b[0m\u001b[0;34m\u001b[0m\u001b[0;34m\u001b[0m\u001b[0m\n\u001b[0;32m---> 22\u001b[0;31m         \u001b[0m_\u001b[0m\u001b[0;34m,\u001b[0m \u001b[0mvae_s2s_loss_curr\u001b[0m \u001b[0;34m=\u001b[0m \u001b[0msess\u001b[0m\u001b[0;34m.\u001b[0m\u001b[0mrun\u001b[0m\u001b[0;34m(\u001b[0m\u001b[0;34m[\u001b[0m\u001b[0mvae_s2s_solver\u001b[0m\u001b[0;34m,\u001b[0m \u001b[0mvae_s2s_loss\u001b[0m\u001b[0;34m]\u001b[0m\u001b[0;34m,\u001b[0m \u001b[0mfeed_dict\u001b[0m\u001b[0;34m=\u001b[0m\u001b[0;34m{\u001b[0m\u001b[0mipt_source\u001b[0m\u001b[0;34m:\u001b[0m \u001b[0msample_source\u001b[0m\u001b[0;34m}\u001b[0m\u001b[0;34m)\u001b[0m\u001b[0;34m\u001b[0m\u001b[0m\n\u001b[0m\u001b[1;32m     23\u001b[0m         \u001b[0m_\u001b[0m\u001b[0;34m,\u001b[0m \u001b[0mvae_t2t_loss_curr\u001b[0m \u001b[0;34m=\u001b[0m \u001b[0msess\u001b[0m\u001b[0;34m.\u001b[0m\u001b[0mrun\u001b[0m\u001b[0;34m(\u001b[0m\u001b[0;34m[\u001b[0m\u001b[0mvae_t2t_solver\u001b[0m\u001b[0;34m,\u001b[0m \u001b[0mvae_t2t_loss\u001b[0m\u001b[0;34m]\u001b[0m\u001b[0;34m,\u001b[0m \u001b[0mfeed_dict\u001b[0m\u001b[0;34m=\u001b[0m\u001b[0;34m{\u001b[0m\u001b[0mipt_target\u001b[0m\u001b[0;34m:\u001b[0m \u001b[0msample_target\u001b[0m\u001b[0;34m}\u001b[0m\u001b[0;34m)\u001b[0m\u001b[0;34m\u001b[0m\u001b[0m\n\u001b[1;32m     24\u001b[0m \u001b[0;34m\u001b[0m\u001b[0m\n",
      "\u001b[0;32m~/miniconda3/envs/tl-gpu/lib/python3.5/site-packages/tensorflow/python/client/session.py\u001b[0m in \u001b[0;36mrun\u001b[0;34m(self, fetches, feed_dict, options, run_metadata)\u001b[0m\n\u001b[1;32m    887\u001b[0m     \u001b[0;32mtry\u001b[0m\u001b[0;34m:\u001b[0m\u001b[0;34m\u001b[0m\u001b[0m\n\u001b[1;32m    888\u001b[0m       result = self._run(None, fetches, feed_dict, options_ptr,\n\u001b[0;32m--> 889\u001b[0;31m                          run_metadata_ptr)\n\u001b[0m\u001b[1;32m    890\u001b[0m       \u001b[0;32mif\u001b[0m \u001b[0mrun_metadata\u001b[0m\u001b[0;34m:\u001b[0m\u001b[0;34m\u001b[0m\u001b[0m\n\u001b[1;32m    891\u001b[0m         \u001b[0mproto_data\u001b[0m \u001b[0;34m=\u001b[0m \u001b[0mtf_session\u001b[0m\u001b[0;34m.\u001b[0m\u001b[0mTF_GetBuffer\u001b[0m\u001b[0;34m(\u001b[0m\u001b[0mrun_metadata_ptr\u001b[0m\u001b[0;34m)\u001b[0m\u001b[0;34m\u001b[0m\u001b[0m\n",
      "\u001b[0;32m~/miniconda3/envs/tl-gpu/lib/python3.5/site-packages/tensorflow/python/client/session.py\u001b[0m in \u001b[0;36m_run\u001b[0;34m(self, handle, fetches, feed_dict, options, run_metadata)\u001b[0m\n\u001b[1;32m   1118\u001b[0m     \u001b[0;32mif\u001b[0m \u001b[0mfinal_fetches\u001b[0m \u001b[0;32mor\u001b[0m \u001b[0mfinal_targets\u001b[0m \u001b[0;32mor\u001b[0m \u001b[0;34m(\u001b[0m\u001b[0mhandle\u001b[0m \u001b[0;32mand\u001b[0m \u001b[0mfeed_dict_tensor\u001b[0m\u001b[0;34m)\u001b[0m\u001b[0;34m:\u001b[0m\u001b[0;34m\u001b[0m\u001b[0m\n\u001b[1;32m   1119\u001b[0m       results = self._do_run(handle, final_targets, final_fetches,\n\u001b[0;32m-> 1120\u001b[0;31m                              feed_dict_tensor, options, run_metadata)\n\u001b[0m\u001b[1;32m   1121\u001b[0m     \u001b[0;32melse\u001b[0m\u001b[0;34m:\u001b[0m\u001b[0;34m\u001b[0m\u001b[0m\n\u001b[1;32m   1122\u001b[0m       \u001b[0mresults\u001b[0m \u001b[0;34m=\u001b[0m \u001b[0;34m[\u001b[0m\u001b[0;34m]\u001b[0m\u001b[0;34m\u001b[0m\u001b[0m\n",
      "\u001b[0;32m~/miniconda3/envs/tl-gpu/lib/python3.5/site-packages/tensorflow/python/client/session.py\u001b[0m in \u001b[0;36m_do_run\u001b[0;34m(self, handle, target_list, fetch_list, feed_dict, options, run_metadata)\u001b[0m\n\u001b[1;32m   1315\u001b[0m     \u001b[0;32mif\u001b[0m \u001b[0mhandle\u001b[0m \u001b[0;32mis\u001b[0m \u001b[0;32mNone\u001b[0m\u001b[0;34m:\u001b[0m\u001b[0;34m\u001b[0m\u001b[0m\n\u001b[1;32m   1316\u001b[0m       return self._do_call(_run_fn, self._session, feeds, fetches, targets,\n\u001b[0;32m-> 1317\u001b[0;31m                            options, run_metadata)\n\u001b[0m\u001b[1;32m   1318\u001b[0m     \u001b[0;32melse\u001b[0m\u001b[0;34m:\u001b[0m\u001b[0;34m\u001b[0m\u001b[0m\n\u001b[1;32m   1319\u001b[0m       \u001b[0;32mreturn\u001b[0m \u001b[0mself\u001b[0m\u001b[0;34m.\u001b[0m\u001b[0m_do_call\u001b[0m\u001b[0;34m(\u001b[0m\u001b[0m_prun_fn\u001b[0m\u001b[0;34m,\u001b[0m \u001b[0mself\u001b[0m\u001b[0;34m.\u001b[0m\u001b[0m_session\u001b[0m\u001b[0;34m,\u001b[0m \u001b[0mhandle\u001b[0m\u001b[0;34m,\u001b[0m \u001b[0mfeeds\u001b[0m\u001b[0;34m,\u001b[0m \u001b[0mfetches\u001b[0m\u001b[0;34m)\u001b[0m\u001b[0;34m\u001b[0m\u001b[0m\n",
      "\u001b[0;32m~/miniconda3/envs/tl-gpu/lib/python3.5/site-packages/tensorflow/python/client/session.py\u001b[0m in \u001b[0;36m_do_call\u001b[0;34m(self, fn, *args)\u001b[0m\n\u001b[1;32m   1321\u001b[0m   \u001b[0;32mdef\u001b[0m \u001b[0m_do_call\u001b[0m\u001b[0;34m(\u001b[0m\u001b[0mself\u001b[0m\u001b[0;34m,\u001b[0m \u001b[0mfn\u001b[0m\u001b[0;34m,\u001b[0m \u001b[0;34m*\u001b[0m\u001b[0margs\u001b[0m\u001b[0;34m)\u001b[0m\u001b[0;34m:\u001b[0m\u001b[0;34m\u001b[0m\u001b[0m\n\u001b[1;32m   1322\u001b[0m     \u001b[0;32mtry\u001b[0m\u001b[0;34m:\u001b[0m\u001b[0;34m\u001b[0m\u001b[0m\n\u001b[0;32m-> 1323\u001b[0;31m       \u001b[0;32mreturn\u001b[0m \u001b[0mfn\u001b[0m\u001b[0;34m(\u001b[0m\u001b[0;34m*\u001b[0m\u001b[0margs\u001b[0m\u001b[0;34m)\u001b[0m\u001b[0;34m\u001b[0m\u001b[0m\n\u001b[0m\u001b[1;32m   1324\u001b[0m     \u001b[0;32mexcept\u001b[0m \u001b[0merrors\u001b[0m\u001b[0;34m.\u001b[0m\u001b[0mOpError\u001b[0m \u001b[0;32mas\u001b[0m \u001b[0me\u001b[0m\u001b[0;34m:\u001b[0m\u001b[0;34m\u001b[0m\u001b[0m\n\u001b[1;32m   1325\u001b[0m       \u001b[0mmessage\u001b[0m \u001b[0;34m=\u001b[0m \u001b[0mcompat\u001b[0m\u001b[0;34m.\u001b[0m\u001b[0mas_text\u001b[0m\u001b[0;34m(\u001b[0m\u001b[0me\u001b[0m\u001b[0;34m.\u001b[0m\u001b[0mmessage\u001b[0m\u001b[0;34m)\u001b[0m\u001b[0;34m\u001b[0m\u001b[0m\n",
      "\u001b[0;32m~/miniconda3/envs/tl-gpu/lib/python3.5/site-packages/tensorflow/python/client/session.py\u001b[0m in \u001b[0;36m_run_fn\u001b[0;34m(session, feed_dict, fetch_list, target_list, options, run_metadata)\u001b[0m\n\u001b[1;32m   1300\u001b[0m           return tf_session.TF_Run(session, options,\n\u001b[1;32m   1301\u001b[0m                                    \u001b[0mfeed_dict\u001b[0m\u001b[0;34m,\u001b[0m \u001b[0mfetch_list\u001b[0m\u001b[0;34m,\u001b[0m \u001b[0mtarget_list\u001b[0m\u001b[0;34m,\u001b[0m\u001b[0;34m\u001b[0m\u001b[0m\n\u001b[0;32m-> 1302\u001b[0;31m                                    status, run_metadata)\n\u001b[0m\u001b[1;32m   1303\u001b[0m \u001b[0;34m\u001b[0m\u001b[0m\n\u001b[1;32m   1304\u001b[0m     \u001b[0;32mdef\u001b[0m \u001b[0m_prun_fn\u001b[0m\u001b[0;34m(\u001b[0m\u001b[0msession\u001b[0m\u001b[0;34m,\u001b[0m \u001b[0mhandle\u001b[0m\u001b[0;34m,\u001b[0m \u001b[0mfeed_dict\u001b[0m\u001b[0;34m,\u001b[0m \u001b[0mfetch_list\u001b[0m\u001b[0;34m)\u001b[0m\u001b[0;34m:\u001b[0m\u001b[0;34m\u001b[0m\u001b[0m\n",
      "\u001b[0;31mKeyboardInterrupt\u001b[0m: "
     ]
    }
   ],
   "source": [
    "nb_iter = 100000\n",
    "nb_iter_d = 5\n",
    "nb_iter_vae = 1\n",
    "nb_iter_g = 1\n",
    "nb_iter_classif = 2\n",
    "# G_s2t_loss_curr = 0.001\n",
    "# D_s2t_loss_curr = 0.001\n",
    "# G_t2s_loss_curr = 0.001\n",
    "# D_t2s_loss_curr = 0.001\n",
    "# vae_s2s_loss_curr = 0.001\n",
    "# vae_t2t_loss_curr = 0.001\n",
    "# classif_t2s_loss_curr = 0.001\n",
    "verbose = True\n",
    "\n",
    "i_init = i\n",
    "for i in range(i, nb_iter+i):\n",
    "    for k in range(nb_iter_vae):\n",
    "        sample_source = X_source[np.random.choice(len(X_source), batch_size)]\n",
    "        sample_target = X_target[np.random.choice(len(X_target), batch_size)]\n",
    "        \n",
    "        ## Optimizing VAE s2s\n",
    "        _, vae_s2s_loss_curr = sess.run([vae_s2s_solver, vae_s2s_loss], feed_dict={ipt_source: sample_source})\n",
    "        _, vae_t2t_loss_curr = sess.run([vae_t2t_solver, vae_t2t_loss], feed_dict={ipt_target: sample_target})\n",
    "        \n",
    "    for k in range(nb_iter_g):\n",
    "        sample_source = X_source[np.random.choice(len(X_source), batch_size)]\n",
    "        sample_target = X_target[np.random.choice(len(X_target), batch_size)]\n",
    "        \n",
    "        # Optimizing gen s2t\n",
    "        _, G_s2t_loss_curr = sess.run([G_s2t_solver, G_s2t_loss], feed_dict={ipt_source: sample_source, \n",
    "                                                                             ipt_target: sample_target})\n",
    "    \n",
    "        ## Optimizing gen t2s\n",
    "        _, G_t2s_loss_curr = sess.run([G_t2s_solver, G_t2s_loss], feed_dict={ipt_source: sample_source, \n",
    "                                                                             ipt_target: sample_target})\n",
    "        \n",
    "    for k in range(nb_iter_d):\n",
    "        sample_source = X_source[np.random.choice(len(X_source), batch_size)]\n",
    "        sample_target = X_target[np.random.choice(len(X_target), batch_size)]\n",
    "        \n",
    "        # Optimizing s2t\n",
    "        _, D_s2t_loss_curr,_ = sess.run([D_s2t_solver, D_s2t_loss, clip_D_s2t], feed_dict={ipt_source: sample_source, \n",
    "                                                                                           ipt_target: sample_target})\n",
    "    \n",
    "        ## Optimizing t2s\n",
    "        _, D_t2s_loss_curr,_ = sess.run([D_t2s_solver, D_t2s_loss, clip_D_t2s], feed_dict={ipt_source: sample_source, \n",
    "                                                                                           ipt_target: sample_target})\n",
    "        \n",
    "        \n",
    "    for k in range(nb_iter_classif):\n",
    "        idx_sample_source = np.random.choice(len(X_source), batch_size)\n",
    "        sample_source = X_source[idx_sample_source]\n",
    "        sample_source_labels = Y_source[idx_sample_source]\n",
    "        sample_target = X_target[np.random.choice(len(X_target), batch_size)]\n",
    "        \n",
    "        _, classif_t2s_loss_curr = sess.run([classif_source_solver, classif_source_loss], feed_dict={ipt_source: sample_source, \n",
    "                                                                                                     labels_source: sample_source_labels})\n",
    "        \n",
    "    iter_list.append(i)\n",
    "    D_s2t_loss_list.append(D_s2t_loss_curr)\n",
    "    G_s2t_loss_list.append(G_s2t_loss_curr)\n",
    "    D_t2s_loss_list.append(D_t2s_loss_curr)\n",
    "    G_t2s_loss_list.append(G_t2s_loss_curr)\n",
    "    vae_s2s_loss_list.append(vae_s2s_loss_curr)\n",
    "    vae_t2t_loss_list.append(vae_t2t_loss_curr)\n",
    "    classif_t2s_loss_list.append(classif_t2s_loss_curr)\n",
    "    \n",
    "    if verbose:\n",
    "        clear_output(wait=True)\n",
    "        print('Iter: {} / {}'.format(i, i_init + nb_iter - 1))\n",
    "        print('D loss s2t: {:.4}'.format(D_s2t_loss_curr))\n",
    "        print('D loss t2s: {:.4}'.format(D_t2s_loss_curr))\n",
    "        print('G loss s2t: {:.4}'.format(G_s2t_loss_curr))\n",
    "        print('G loss t2s: {:.4}'.format(G_t2s_loss_curr))\n",
    "        print('VAE loss s2s: {:.4}'.format(vae_s2s_loss_curr))\n",
    "        print('VAE loss t2t: {:.4}'.format(vae_t2t_loss_curr))\n",
    "        print('Classif loss : {:.4}'.format(classif_t2s_loss_curr))\n",
    "        print()\n",
    "\n",
    "#     if i % (nb_iter//20) == 0:\n",
    "print(\"Saving model...\")\n",
    "saver.save(sess, \"model/model.ckpt\")\n",
    "np.savetxt(\"D_s2t_loss_list.txt\", D_s2t_loss_list)\n",
    "np.savetxt(\"G_s2t_loss_list.txt\", G_s2t_loss_list)\n",
    "np.savetxt(\"D_t2s_loss_list.txt\", D_t2s_loss_list)\n",
    "np.savetxt(\"G_t2s_loss_list.txt\", G_t2s_loss_list)\n",
    "np.savetxt(\"vae_s2s_loss_list.txt\", vae_s2s_loss_list)\n",
    "np.savetxt(\"vae_t2t_loss_list.txt\", vae_t2t_loss_list)\n",
    "np.savetxt(\"classif_t2s_loss_list.txt\", classif_t2s_loss_list)\n",
    "np.savetxt(\"iter_list.txt\", iter_list)\n",
    "\n",
    "# summary_writer.flush()"
   ]
  },
  {
   "cell_type": "markdown",
   "metadata": {},
   "source": [
    "## Display the results"
   ]
  },
  {
   "cell_type": "code",
   "execution_count": 90,
   "metadata": {
    "collapsed": true
   },
   "outputs": [],
   "source": [
    "def unnormalize(x):\n",
    "    return (x + 1)/2"
   ]
  },
  {
   "cell_type": "code",
   "execution_count": 91,
   "metadata": {},
   "outputs": [],
   "source": [
    "X_s2s = unnormalize(sess.run(G_s2s, feed_dict={ipt_source: X_source[:batch_size]}))\n",
    "# X_s2s = unnormalize(sess.run(generator(E_mean_source + tf.random_normal([batch_size,8,8,1024],0,1,dtype=tf.float32), \"source\"), feed_dict={ipt_source: X_source[:batch_size]}))\n",
    "X_t2t = unnormalize(sess.run(G_t2t, feed_dict={ipt_target: X_target[:batch_size]}))\n",
    "X_s2t = unnormalize(sess.run(G_s2t, feed_dict={ipt_source: X_source[:batch_size]}))\n",
    "X_t2s = unnormalize(sess.run(G_t2s, feed_dict={ipt_target: X_target[:batch_size]}))\n",
    "\n",
    "Y_source_predict = np.argmax(sess.run(tf.nn.softmax(D_source_classif), feed_dict={ipt_source: X_source[:batch_size]}), axis=1)"
   ]
  },
  {
   "cell_type": "code",
   "execution_count": 113,
   "metadata": {},
   "outputs": [
    {
     "data": {
      "text/plain": [
       "(-0.5, 31.5, 31.5, -0.5)"
      ]
     },
     "execution_count": 113,
     "metadata": {},
     "output_type": "execute_result"
    },
    {
     "data": {
      "image/png": "[encoded data removed]",
      "text/plain": [
       "<matplotlib.figure.Figure at 0x7f27a37860f0>"
      ]
     },
     "metadata": {},
     "output_type": "display_data"
    }
   ],
   "source": [
    "plt.rcParams['figure.figsize'] = (15, 10)\n",
    "# plt.axes().set_aspect('equal', 'datalim')\n",
    "#plt.axis([-3,3,-3,3])\n",
    "\n",
    "index = 43\n",
    "plt.subplot(2,3,1)\n",
    "plt.title(Y_source_predict[index])\n",
    "plt.imshow(X_source[index].reshape(32,32))\n",
    "plt.axis('off')\n",
    "\n",
    "plt.subplot(2,3,2)\n",
    "plt.imshow(X_s2t[index].reshape(32,32))\n",
    "plt.axis('off')\n",
    "\n",
    "plt.subplot(2,3,3)\n",
    "plt.imshow(X_s2s[index].reshape(32,32))\n",
    "plt.axis('off')\n",
    "\n",
    "plt.subplot(2,3,4)\n",
    "plt.imshow(X_target[index].reshape(32,32))\n",
    "plt.axis('off')\n",
    "\n",
    "plt.subplot(2,3,5)\n",
    "plt.imshow(X_t2s[index].reshape(32,32))\n",
    "plt.axis('off')\n",
    "\n",
    "plt.subplot(2,3,6)\n",
    "#plt.imshow(np.transpose(X_target_trans[index].reshape(3,32,32), (1,2,0)))\n",
    "plt.imshow(X_t2t[index].reshape(32,32))\n",
    "plt.axis('off')"
   ]
  },
  {
   "cell_type": "code",
   "execution_count": 84,
   "metadata": {},
   "outputs": [
    {
     "data": {
      "text/plain": [
       "<matplotlib.legend.Legend at 0x7f2b30549400>"
      ]
     },
     "execution_count": 84,
     "metadata": {},
     "output_type": "execute_result"
    },
    {
     "data": {
      "image/png": "[encoded data removed]",
      "text/plain": [
       "<matplotlib.figure.Figure at 0x7f2b307e90f0>"
      ]
     },
     "metadata": {},
     "output_type": "display_data"
    }
   ],
   "source": [
    "k = 10\n",
    "start = 0\n",
    "def smooth(x_list):\n",
    "    res = [np.sum([x_list[k+j] for j in range(-k, k+1)])]\n",
    "    for i in range(k+1, len(x_list)-k):\n",
    "        res.append(res[-1] - x_list[i-k-1] + x_list[i+k])\n",
    "    return np.array(res) / (2 * k)\n",
    "\n",
    "plt.rcParams['figure.figsize'] = (20, 7)\n",
    "\n",
    "plt.subplot(1,2,1)\n",
    "plt.plot(iter_list[k+start:-k], smooth(D_s2t_loss_list[start:]), label=\"Discriminator loss − s2t\")\n",
    "plt.plot(iter_list[k+start:-k], smooth(D_t2s_loss_list[start:]), label=\"Discriminator loss − t2s\")\n",
    "plt.legend()\n",
    "\n",
    "plt.subplot(1,2,2)\n",
    "plt.plot(iter_list[k+start:-k], smooth(G_s2t_loss_list[start:]), label=\"Generator loss − s2t\")\n",
    "plt.plot(iter_list[k+start:-k], smooth(G_t2s_loss_list[start:]), label=\"Generator loss − t2s\")\n",
    "plt.legend()"
   ]
  },
  {
   "cell_type": "code",
   "execution_count": 85,
   "metadata": {},
   "outputs": [
    {
     "data": {
      "text/plain": [
       "<matplotlib.legend.Legend at 0x7f2b3047acf8>"
      ]
     },
     "execution_count": 85,
     "metadata": {},
     "output_type": "execute_result"
    },
    {
     "data": {
      "image/png": "[encoded data removed]",
      "text/plain": [
       "<matplotlib.figure.Figure at 0x7f2b480494e0>"
      ]
     },
     "metadata": {},
     "output_type": "display_data"
    }
   ],
   "source": [
    "start = 0\n",
    "k = 10\n",
    "plt.subplot(1,2,1)\n",
    "plt.plot(iter_list[k+start:-k], smooth(vae_s2s_loss_list[start:]), label=\"VAE s2s loss\")\n",
    "plt.legend()\n",
    "\n",
    "plt.subplot(1,2,2)\n",
    "plt.plot(iter_list[k+start:-k], smooth(vae_t2t_loss_list[start:]), label=\"VAE t2t loss\")\n",
    "plt.legend()"
   ]
  },
  {
   "cell_type": "code",
   "execution_count": 86,
   "metadata": {},
   "outputs": [
    {
     "data": {
      "text/plain": [
       "<matplotlib.legend.Legend at 0x7f2b480645c0>"
      ]
     },
     "execution_count": 86,
     "metadata": {},
     "output_type": "execute_result"
    },
    {
     "data": {
      "image/png": "[encoded data removed]",
      "text/plain": [
       "<matplotlib.figure.Figure at 0x7f2b48064cf8>"
      ]
     },
     "metadata": {},
     "output_type": "display_data"
    }
   ],
   "source": [
    "start = 0\n",
    "k = 10\n",
    "plt.plot(iter_list[k+start:-k], smooth(classif_t2s_loss_list[start:]), label=\"Classif loss\")\n",
    "plt.legend()"
   ]
  },
  {
   "cell_type": "markdown",
   "metadata": {},
   "source": [
    "## Debug"
   ]
  },
  {
   "cell_type": "code",
   "execution_count": null,
   "metadata": {
    "collapsed": true
   },
   "outputs": [],
   "source": [
    "#X_target_trans[10][:,:,:]"
   ]
  },
  {
   "cell_type": "markdown",
   "metadata": {},
   "source": [
    "### Gradients"
   ]
  },
  {
   "cell_type": "code",
   "execution_count": null,
   "metadata": {},
   "outputs": [],
   "source": [
    "print(\"Gradient of D with respect to\", ipt_source)\n",
    "gradient = sess.run(tf.gradients(discriminator(ipt_source, \"source\")[1], ipt_source), \n",
    "                    feed_dict={ipt_source: sample_source})\n",
    "print(\"Min:\", np.array(np.abs(gradient)).min())\n",
    "print(\"Max:\", np.array(gradient).max())\n",
    "print(\"Avg:\", np.array(np.abs(gradient)).mean())"
   ]
  },
  {
   "cell_type": "code",
   "execution_count": null,
   "metadata": {},
   "outputs": [],
   "source": [
    "print(\"Gradient of D with respect to\", ipt_target)\n",
    "gradient = sess.run(tf.gradients(discriminator(ipt_target, \"target\")[1], ipt_target), \n",
    "                    feed_dict={ipt_target: sample_target})\n",
    "\n",
    "print(\"Min:\", np.array(gradient).min())\n",
    "print(\"Max:\", np.array(gradient).max())\n",
    "print(\"Avg:\", np.array(np.abs(gradient)).mean())"
   ]
  },
  {
   "cell_type": "code",
   "execution_count": null,
   "metadata": {},
   "outputs": [],
   "source": [
    "ind = 1\n",
    "print(\"Gradient with respect to\", G_s2t_vars[ind])\n",
    "gradient = sess.run(tf.gradients(G_s2t_loss, G_s2t_vars[ind]), feed_dict={ipt_source: sample_source, \n",
    "                                                                          ipt_target: sample_target})\n",
    "print(\"Min:\", np.array(gradient).min())\n",
    "print(\"Max:\", np.array(gradient).max())\n",
    "print(\"Avg:\", np.array(gradient).mean())"
   ]
  },
  {
   "cell_type": "code",
   "execution_count": null,
   "metadata": {},
   "outputs": [],
   "source": [
    "ind = 2\n",
    "print(\"Gradient with respect to\", G_t2s_vars[ind])\n",
    "gradient = sess.run(tf.gradients(G_t2s_loss, G_t2s_vars[ind]), feed_dict={ipt_source: sample_source, \n",
    "                                                                          ipt_target: sample_target})\n",
    "print(\"Min:\", np.array(gradient).min())\n",
    "print(\"Max:\", np.array(gradient).max())\n",
    "print(\"Avg:\", np.array(gradient).mean())"
   ]
  },
  {
   "cell_type": "code",
   "execution_count": null,
   "metadata": {
    "collapsed": true
   },
   "outputs": [],
   "source": []
  }
 ],
 "metadata": {
  "kernelspec": {
   "display_name": "Python 3",
   "language": "python",
   "name": "python3"
  },
  "language_info": {
   "codemirror_mode": {
    "name": "ipython",
    "version": 3
   },
   "file_extension": ".py",
   "mimetype": "text/x-python",
   "name": "python",
   "nbconvert_exporter": "python",
   "pygments_lexer": "ipython3",
   "version": "3.5.4"
  }
 },
 "nbformat": 4,
 "nbformat_minor": 2
}
